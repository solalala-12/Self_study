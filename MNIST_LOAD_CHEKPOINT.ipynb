{
 "cells": [
  {
   "cell_type": "code",
   "execution_count": null,
   "metadata": {},
   "outputs": [],
   "source": [
    "import tensorflow as tf\n",
    "from tensorflow.examples.tutorials.mnist import input_data"
   ]
  },
  {
   "cell_type": "code",
   "execution_count": null,
   "metadata": {},
   "outputs": [],
   "source": [
    "# one_hot 옵션은 레이블을 동물 분류 예제에서 보았던 one_hot 방식의 데이터로 만들어줍니다.\n",
    "mnist = input_data.read_data_sets(\"./mnist/data/\", one_hot=True)\n"
   ]
  },
  {
   "cell_type": "code",
   "execution_count": null,
   "metadata": {
    "scrolled": true
   },
   "outputs": [],
   "source": [
    "# 신경망 모델 구성\n",
    "# data-> model -> cost / optimizer\n",
    "# 28 x 28\n",
    "\n",
    "global_step = tf.Variable(0, trainable=False, name='global_step')\n",
    "X=tf.placeholder(tf.float32,[None,784])\n",
    "# [1 0 0 0 0 0 0 0]\n",
    "Y=tf.placeholder(tf.float32,[None,10])\n",
    "\n",
    "# 신경망의 레이어는 다음처럼 구성\n",
    "# 784 -> 256 -> 256 -> 10\n",
    "W1=tf.Variable(tf.random_normal([784,256],stddev=0.01))\n",
    "L1=tf.nn.relu(tf.matmul(X,W1))\n",
    "\n",
    "W2=tf.Variable(tf.random_normal([256,256],stddev=0.01))\n",
    "L2=tf.nn.relu(tf.matmul(L1,W2))\n",
    "\n",
    "W3=tf.Variable(tf.random_normal([256,10],stddev=0.01))\n",
    "model=tf.matmul(L2,W3)\n",
    "\n",
    "cost=tf.reduce_mean(tf.nn.softmax_cross_entropy_with_logits_v2(logits=model,labels=Y))\n",
    "optimizer=tf.train.AdamOptimizer(learning_rate=0.001).minimize(cost)\n",
    "\n",
    "# 신경망 모델 학습\n",
    "batch_size=100\n",
    "total_batch=int(mnist.train.num_examples/batch_size)\n",
    "\n",
    "with tf.Session() as sess:\n",
    "    \n",
    "    # 모델 저장\n",
    "    saver=tf.train.Saver(tf.global_variables())\n",
    "    ckpt=tf.train.get_checkpoint_state('./model')\n",
    "    if ckpt and  tf.train.checkpoint_exists(ckpt.model_checkpoint_path):\n",
    "        print(\"저장된 checkpoint가 있습니다.\")\n",
    "        sess.run(tf.global_variables_initializer())\n",
    "        # 마지막 파일 명에서 저장된 STEP 받아오기\n",
    "        global_step = int(ckpt.model_checkpoint_path.split('-')[1].split('.')[0])\n",
    "        saver.restore(sess,ckpt.model_checkpoint_path)\n",
    "        #saver.restore(sess, tf.train.latest_checkpoint('./') )\n",
    "        \n",
    "    else:\n",
    "        print(\"저장된 checkpoint가 없습니다.\")\n",
    "        sess.run(tf.global_variables_initializer())\n",
    "        global_step=0\n",
    "        \n",
    "    for epoch in range(global_step,20):\n",
    "        total_cost=0\n",
    "        \n",
    "        for i in range(total_batch):\n",
    "            batch_xs,batch_ys=mnist.train.next_batch(batch_size)\n",
    "            \n",
    "            _,cost_val=sess.run([optimizer,cost],feed_dict={X:batch_xs, Y:batch_ys})\n",
    "            total_cost+=cost_val\n",
    "            \n",
    "        print('Epoch:' , '%04d' %(epoch+1), 'Avg.cost =','{:.3f}',format(total_cost/total_batch))\n",
    "        print(\"모델 저장\")\n",
    "        if (epoch+1)%5==0:\n",
    "            saver.save(sess,\"./model/mnist_model\",global_step=epoch)\n",
    "        \n",
    "    print(\"최적화 완료\")\n",
    "    # 결과 확인\n",
    "    is_correct=tf.equal(tf.argmax(model,1), tf.argmax(Y,1))\n",
    "    accuracy=tf.reduce_mean(tf.cast(is_correct, tf.float32))\n",
    "    print('정확도 :',sess.run(accuracy, feed_dict={X:mnist.test.images, Y:mnist.test.labels}))\n",
    "            \n",
    "        \n",
    "        \n",
    "\n"
   ]
  },
  {
   "cell_type": "code",
   "execution_count": null,
   "metadata": {},
   "outputs": [],
   "source": []
  }
 ],
 "metadata": {
  "kernelspec": {
   "display_name": "Python 3",
   "language": "python",
   "name": "python3"
  },
  "language_info": {
   "codemirror_mode": {
    "name": "ipython",
    "version": 3
   },
   "file_extension": ".py",
   "mimetype": "text/x-python",
   "name": "python",
   "nbconvert_exporter": "python",
   "pygments_lexer": "ipython3",
   "version": "3.6.5"
  }
 },
 "nbformat": 4,
 "nbformat_minor": 4
}
