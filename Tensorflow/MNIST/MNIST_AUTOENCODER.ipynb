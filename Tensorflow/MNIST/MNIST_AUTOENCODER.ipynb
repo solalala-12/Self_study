{
 "cells": [
  {
   "cell_type": "code",
   "execution_count": 1,
   "metadata": {},
   "outputs": [
    {
     "name": "stderr",
     "output_type": "stream",
     "text": [
      "C:\\Users\\Owner\\Anaconda3\\envs\\vc\\lib\\site-packages\\tensorflow\\python\\framework\\dtypes.py:523: FutureWarning: Passing (type, 1) or '1type' as a synonym of type is deprecated; in a future version of numpy, it will be understood as (type, (1,)) / '(1,)type'.\n",
      "  _np_qint8 = np.dtype([(\"qint8\", np.int8, 1)])\n",
      "C:\\Users\\Owner\\Anaconda3\\envs\\vc\\lib\\site-packages\\tensorflow\\python\\framework\\dtypes.py:524: FutureWarning: Passing (type, 1) or '1type' as a synonym of type is deprecated; in a future version of numpy, it will be understood as (type, (1,)) / '(1,)type'.\n",
      "  _np_quint8 = np.dtype([(\"quint8\", np.uint8, 1)])\n",
      "C:\\Users\\Owner\\Anaconda3\\envs\\vc\\lib\\site-packages\\tensorflow\\python\\framework\\dtypes.py:525: FutureWarning: Passing (type, 1) or '1type' as a synonym of type is deprecated; in a future version of numpy, it will be understood as (type, (1,)) / '(1,)type'.\n",
      "  _np_qint16 = np.dtype([(\"qint16\", np.int16, 1)])\n",
      "C:\\Users\\Owner\\Anaconda3\\envs\\vc\\lib\\site-packages\\tensorflow\\python\\framework\\dtypes.py:526: FutureWarning: Passing (type, 1) or '1type' as a synonym of type is deprecated; in a future version of numpy, it will be understood as (type, (1,)) / '(1,)type'.\n",
      "  _np_quint16 = np.dtype([(\"quint16\", np.uint16, 1)])\n",
      "C:\\Users\\Owner\\Anaconda3\\envs\\vc\\lib\\site-packages\\tensorflow\\python\\framework\\dtypes.py:527: FutureWarning: Passing (type, 1) or '1type' as a synonym of type is deprecated; in a future version of numpy, it will be understood as (type, (1,)) / '(1,)type'.\n",
      "  _np_qint32 = np.dtype([(\"qint32\", np.int32, 1)])\n",
      "C:\\Users\\Owner\\Anaconda3\\envs\\vc\\lib\\site-packages\\tensorflow\\python\\framework\\dtypes.py:532: FutureWarning: Passing (type, 1) or '1type' as a synonym of type is deprecated; in a future version of numpy, it will be understood as (type, (1,)) / '(1,)type'.\n",
      "  np_resource = np.dtype([(\"resource\", np.ubyte, 1)])\n"
     ]
    }
   ],
   "source": [
    "import tensorflow as tf\n",
    "import numpy as np\n",
    "import matplotlib.pyplot as plt\n"
   ]
  },
  {
   "cell_type": "code",
   "execution_count": 2,
   "metadata": {},
   "outputs": [
    {
     "name": "stdout",
     "output_type": "stream",
     "text": [
      "WARNING:tensorflow:From <ipython-input-2-4dcbd946c02b>:2: read_data_sets (from tensorflow.contrib.learn.python.learn.datasets.mnist) is deprecated and will be removed in a future version.\n",
      "Instructions for updating:\n",
      "Please use alternatives such as official/mnist/dataset.py from tensorflow/models.\n",
      "WARNING:tensorflow:From C:\\Users\\Owner\\Anaconda3\\envs\\vc\\lib\\site-packages\\tensorflow\\contrib\\learn\\python\\learn\\datasets\\mnist.py:260: maybe_download (from tensorflow.contrib.learn.python.learn.datasets.base) is deprecated and will be removed in a future version.\n",
      "Instructions for updating:\n",
      "Please write your own downloading logic.\n",
      "WARNING:tensorflow:From C:\\Users\\Owner\\Anaconda3\\envs\\vc\\lib\\site-packages\\tensorflow\\contrib\\learn\\python\\learn\\datasets\\base.py:252: _internal_retry.<locals>.wrap.<locals>.wrapped_fn (from tensorflow.contrib.learn.python.learn.datasets.base) is deprecated and will be removed in a future version.\n",
      "Instructions for updating:\n",
      "Please use urllib or similar directly.\n",
      "Successfully downloaded train-images-idx3-ubyte.gz 9912422 bytes.\n",
      "WARNING:tensorflow:From C:\\Users\\Owner\\Anaconda3\\envs\\vc\\lib\\site-packages\\tensorflow\\contrib\\learn\\python\\learn\\datasets\\mnist.py:262: extract_images (from tensorflow.contrib.learn.python.learn.datasets.mnist) is deprecated and will be removed in a future version.\n",
      "Instructions for updating:\n",
      "Please use tf.data to implement this functionality.\n",
      "Extracting ./mnist/data/train-images-idx3-ubyte.gz\n",
      "Successfully downloaded train-labels-idx1-ubyte.gz 28881 bytes.\n",
      "WARNING:tensorflow:From C:\\Users\\Owner\\Anaconda3\\envs\\vc\\lib\\site-packages\\tensorflow\\contrib\\learn\\python\\learn\\datasets\\mnist.py:267: extract_labels (from tensorflow.contrib.learn.python.learn.datasets.mnist) is deprecated and will be removed in a future version.\n",
      "Instructions for updating:\n",
      "Please use tf.data to implement this functionality.\n",
      "Extracting ./mnist/data/train-labels-idx1-ubyte.gz\n",
      "WARNING:tensorflow:From C:\\Users\\Owner\\Anaconda3\\envs\\vc\\lib\\site-packages\\tensorflow\\contrib\\learn\\python\\learn\\datasets\\mnist.py:110: dense_to_one_hot (from tensorflow.contrib.learn.python.learn.datasets.mnist) is deprecated and will be removed in a future version.\n",
      "Instructions for updating:\n",
      "Please use tf.one_hot on tensors.\n",
      "Successfully downloaded t10k-images-idx3-ubyte.gz 1648877 bytes.\n",
      "Extracting ./mnist/data/t10k-images-idx3-ubyte.gz\n",
      "Successfully downloaded t10k-labels-idx1-ubyte.gz 4542 bytes.\n",
      "Extracting ./mnist/data/t10k-labels-idx1-ubyte.gz\n",
      "WARNING:tensorflow:From C:\\Users\\Owner\\Anaconda3\\envs\\vc\\lib\\site-packages\\tensorflow\\contrib\\learn\\python\\learn\\datasets\\mnist.py:290: DataSet.__init__ (from tensorflow.contrib.learn.python.learn.datasets.mnist) is deprecated and will be removed in a future version.\n",
      "Instructions for updating:\n",
      "Please use alternatives such as official/mnist/dataset.py from tensorflow/models.\n"
     ]
    }
   ],
   "source": [
    "from tensorflow.examples.tutorials.mnist import input_data\n",
    "mnist = input_data.read_data_sets(\"./mnist/data/\", one_hot=True)"
   ]
  },
  {
   "cell_type": "code",
   "execution_count": 3,
   "metadata": {},
   "outputs": [
    {
     "name": "stdout",
     "output_type": "stream",
     "text": [
      "Epoch: 0001 Avg. cost = 0.1975\n",
      "Epoch: 0002 Avg. cost = 0.0627\n",
      "Epoch: 0003 Avg. cost = 0.0517\n",
      "Epoch: 0004 Avg. cost = 0.0471\n",
      "Epoch: 0005 Avg. cost = 0.0437\n",
      "Epoch: 0006 Avg. cost = 0.0416\n",
      "Epoch: 0007 Avg. cost = 0.0399\n",
      "Epoch: 0008 Avg. cost = 0.0378\n",
      "Epoch: 0009 Avg. cost = 0.0367\n",
      "Epoch: 0010 Avg. cost = 0.0361\n",
      "Epoch: 0011 Avg. cost = 0.0358\n",
      "Epoch: 0012 Avg. cost = 0.0353\n",
      "Epoch: 0013 Avg. cost = 0.0349\n",
      "Epoch: 0014 Avg. cost = 0.0345\n",
      "Epoch: 0015 Avg. cost = 0.0343\n",
      "Epoch: 0016 Avg. cost = 0.0340\n",
      "Epoch: 0017 Avg. cost = 0.0335\n",
      "Epoch: 0018 Avg. cost = 0.0333\n",
      "Epoch: 0019 Avg. cost = 0.0328\n",
      "Epoch: 0020 Avg. cost = 0.0318\n",
      "최적화 완료 ! \n"
     ]
    },
    {
     "data": {
      "image/png": "[encoded data removed]",
      "text/plain": [
       "<Figure size 720x144 with 20 Axes>"
      ]
     },
     "metadata": {
      "needs_background": "light"
     },
     "output_type": "display_data"
    }
   ],
   "source": [
    "\n",
    "learning_rate = 0.01\n",
    "training_epoch = 20\n",
    "batch_size = 100\n",
    "# 신경망 레이어 구성 옵션\n",
    "n_hidden = 256  # 히든 레이어의 뉴런 갯수\n",
    "n_input = 28*28 \n",
    "\n",
    "# 모델 구성\n",
    "X=tf.placeholder(tf.float32,[None,n_input])\n",
    "\n",
    "# input->encode->decode->output\n",
    "W_encode=tf.Variable(tf.random_normal([n_input,n_hidden]))\n",
    "b_encode=tf.Variable(tf.random_normal([n_hidden]))\n",
    "\n",
    "# sigmoid(X*W+b)\n",
    "encoder=tf.nn.sigmoid(tf.add(tf.matmul(X,W_encode),b_encode))\n",
    "\n",
    "# encode의 아웃풋 크기를  28*28=784 -> 64로 줄여 압축하여 특성을 뽐아냄\n",
    "# decode의 출력을 입력값과 동일한 크기를 갖도록 하여 같은 아웃풋을 만들어냄 // autoencoder\n",
    "\n",
    "W_decode=tf.Variable(tf.random_normal([n_hidden,n_input]))\n",
    "b_decode=tf.Variable(tf.random_normal([n_input]))\n",
    "decoder=tf.nn.sigmoid(tf.add(tf.matmul(encoder,W_decode),b_decode))\n",
    "\n",
    "# mean((x-decoder)^2)\n",
    "cost=tf.reduce_mean(tf.pow(X-decoder,2))\n",
    "optimizer=tf.train.RMSPropOptimizer(learning_rate=learning_rate).minimize(cost)\n",
    "\n",
    "# train\n",
    "with tf.Session() as sess:\n",
    "    sess.run(tf.global_variables_initializer())\n",
    "    total_batch=int(mnist.train.num_examples/batch_size)\n",
    "    \n",
    "    for epoch in range(training_epoch):\n",
    "        total_cost=0\n",
    "        for i in range(total_batch):\n",
    "            batch_xs,batch_ys=mnist.train.next_batch(batch_size)\n",
    "            _,cost_val=sess.run([optimizer,cost],feed_dict={X:batch_xs})\n",
    "            total_cost+=cost_val\n",
    "            \n",
    "        print('Epoch:','%04d'%(epoch+1),'Avg. cost =', '{:.4f}'.format(total_cost / total_batch))\n",
    "    print('최적화 완료 ! ')\n",
    "\n",
    "    \n",
    "    \n",
    "    # 결과 확인\n",
    "    sample_size = 10\n",
    "    \n",
    "    # 제일 마지막 단 decoder 계산 / test dataset으로\n",
    "    samples = sess.run(decoder,\n",
    "                       feed_dict={X: mnist.test.images[:sample_size]})\n",
    "\n",
    "    fig, ax = plt.subplots(2, sample_size, figsize=(sample_size, 2))\n",
    "\n",
    "    for i in range(sample_size):\n",
    "        ax[0][i].set_axis_off()\n",
    "        ax[1][i].set_axis_off()\n",
    "        # 정답\n",
    "        ax[0][i].imshow(np.reshape(mnist.test.images[i], (28, 28)))\n",
    "        # decoder 값\n",
    "        ax[1][i].imshow(np.reshape(samples[i], (28, 28)))\n",
    "\n",
    "    plt.show()"
   ]
  },
  {
   "cell_type": "code",
   "execution_count": null,
   "metadata": {},
   "outputs": [],
   "source": []
  }
 ],
 "metadata": {
  "kernelspec": {
   "display_name": "Python 3",
   "language": "python",
   "name": "python3"
  },
  "language_info": {
   "codemirror_mode": {
    "name": "ipython",
    "version": 3
   },
   "file_extension": ".py",
   "mimetype": "text/x-python",
   "name": "python",
   "nbconvert_exporter": "python",
   "pygments_lexer": "ipython3",
   "version": "3.6.5"
  }
 },
 "nbformat": 4,
 "nbformat_minor": 4
}
