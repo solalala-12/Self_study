{
 "cells": [
  {
   "cell_type": "code",
   "execution_count": 1,
   "metadata": {},
   "outputs": [
    {
     "name": "stderr",
     "output_type": "stream",
     "text": [
      "C:\\Users\\Owner\\Anaconda3\\envs\\vc\\lib\\site-packages\\tensorflow\\python\\framework\\dtypes.py:523: FutureWarning: Passing (type, 1) or '1type' as a synonym of type is deprecated; in a future version of numpy, it will be understood as (type, (1,)) / '(1,)type'.\n",
      "  _np_qint8 = np.dtype([(\"qint8\", np.int8, 1)])\n",
      "C:\\Users\\Owner\\Anaconda3\\envs\\vc\\lib\\site-packages\\tensorflow\\python\\framework\\dtypes.py:524: FutureWarning: Passing (type, 1) or '1type' as a synonym of type is deprecated; in a future version of numpy, it will be understood as (type, (1,)) / '(1,)type'.\n",
      "  _np_quint8 = np.dtype([(\"quint8\", np.uint8, 1)])\n",
      "C:\\Users\\Owner\\Anaconda3\\envs\\vc\\lib\\site-packages\\tensorflow\\python\\framework\\dtypes.py:525: FutureWarning: Passing (type, 1) or '1type' as a synonym of type is deprecated; in a future version of numpy, it will be understood as (type, (1,)) / '(1,)type'.\n",
      "  _np_qint16 = np.dtype([(\"qint16\", np.int16, 1)])\n",
      "C:\\Users\\Owner\\Anaconda3\\envs\\vc\\lib\\site-packages\\tensorflow\\python\\framework\\dtypes.py:526: FutureWarning: Passing (type, 1) or '1type' as a synonym of type is deprecated; in a future version of numpy, it will be understood as (type, (1,)) / '(1,)type'.\n",
      "  _np_quint16 = np.dtype([(\"quint16\", np.uint16, 1)])\n",
      "C:\\Users\\Owner\\Anaconda3\\envs\\vc\\lib\\site-packages\\tensorflow\\python\\framework\\dtypes.py:527: FutureWarning: Passing (type, 1) or '1type' as a synonym of type is deprecated; in a future version of numpy, it will be understood as (type, (1,)) / '(1,)type'.\n",
      "  _np_qint32 = np.dtype([(\"qint32\", np.int32, 1)])\n",
      "C:\\Users\\Owner\\Anaconda3\\envs\\vc\\lib\\site-packages\\tensorflow\\python\\framework\\dtypes.py:532: FutureWarning: Passing (type, 1) or '1type' as a synonym of type is deprecated; in a future version of numpy, it will be understood as (type, (1,)) / '(1,)type'.\n",
      "  np_resource = np.dtype([(\"resource\", np.ubyte, 1)])\n"
     ]
    }
   ],
   "source": [
    "import tensorflow as tf\n",
    "from tensorflow.examples.tutorials.mnist import input_data\n",
    "import matplotlib.pyplot as plt\n",
    "import numpy as np"
   ]
  },
  {
   "cell_type": "code",
   "execution_count": 2,
   "metadata": {},
   "outputs": [
    {
     "name": "stdout",
     "output_type": "stream",
     "text": [
      "WARNING:tensorflow:From <ipython-input-2-ce5cd77ea658>:2: read_data_sets (from tensorflow.contrib.learn.python.learn.datasets.mnist) is deprecated and will be removed in a future version.\n",
      "Instructions for updating:\n",
      "Please use alternatives such as official/mnist/dataset.py from tensorflow/models.\n",
      "WARNING:tensorflow:From C:\\Users\\Owner\\Anaconda3\\envs\\vc\\lib\\site-packages\\tensorflow\\contrib\\learn\\python\\learn\\datasets\\mnist.py:260: maybe_download (from tensorflow.contrib.learn.python.learn.datasets.base) is deprecated and will be removed in a future version.\n",
      "Instructions for updating:\n",
      "Please write your own downloading logic.\n",
      "WARNING:tensorflow:From C:\\Users\\Owner\\Anaconda3\\envs\\vc\\lib\\site-packages\\tensorflow\\contrib\\learn\\python\\learn\\datasets\\mnist.py:262: extract_images (from tensorflow.contrib.learn.python.learn.datasets.mnist) is deprecated and will be removed in a future version.\n",
      "Instructions for updating:\n",
      "Please use tf.data to implement this functionality.\n",
      "Extracting ./mnist/data/train-images-idx3-ubyte.gz\n",
      "WARNING:tensorflow:From C:\\Users\\Owner\\Anaconda3\\envs\\vc\\lib\\site-packages\\tensorflow\\contrib\\learn\\python\\learn\\datasets\\mnist.py:267: extract_labels (from tensorflow.contrib.learn.python.learn.datasets.mnist) is deprecated and will be removed in a future version.\n",
      "Instructions for updating:\n",
      "Please use tf.data to implement this functionality.\n",
      "Extracting ./mnist/data/train-labels-idx1-ubyte.gz\n",
      "WARNING:tensorflow:From C:\\Users\\Owner\\Anaconda3\\envs\\vc\\lib\\site-packages\\tensorflow\\contrib\\learn\\python\\learn\\datasets\\mnist.py:110: dense_to_one_hot (from tensorflow.contrib.learn.python.learn.datasets.mnist) is deprecated and will be removed in a future version.\n",
      "Instructions for updating:\n",
      "Please use tf.one_hot on tensors.\n",
      "Extracting ./mnist/data/t10k-images-idx3-ubyte.gz\n",
      "Extracting ./mnist/data/t10k-labels-idx1-ubyte.gz\n",
      "WARNING:tensorflow:From C:\\Users\\Owner\\Anaconda3\\envs\\vc\\lib\\site-packages\\tensorflow\\contrib\\learn\\python\\learn\\datasets\\mnist.py:290: DataSet.__init__ (from tensorflow.contrib.learn.python.learn.datasets.mnist) is deprecated and will be removed in a future version.\n",
      "Instructions for updating:\n",
      "Please use alternatives such as official/mnist/dataset.py from tensorflow/models.\n"
     ]
    }
   ],
   "source": [
    "# one_hot 옵션은 레이블을 동물 분류 예제에서 보았던 one_hot 방식의 데이터로 만들어줍니다.\n",
    "mnist = input_data.read_data_sets(\"./mnist/data/\", one_hot=True)\n"
   ]
  },
  {
   "cell_type": "code",
   "execution_count": 3,
   "metadata": {
    "scrolled": true
   },
   "outputs": [
    {
     "name": "stdout",
     "output_type": "stream",
     "text": [
      "저장된 checkpoint가 있습니다.\n",
      "INFO:tensorflow:Restoring parameters from ./model\\mnist_model-6\n",
      "Epoch: 0007 Avg.cost = {:.3f} 0.04461388130418279\n",
      "모델 저장\n",
      "Epoch: 0008 Avg.cost = {:.3f} 0.042449992015449835\n",
      "모델 저장\n",
      "Epoch: 0009 Avg.cost = {:.3f} 0.03736557744168253\n",
      "모델 저장\n",
      "Epoch: 0010 Avg.cost = {:.3f} 0.031750266421797936\n",
      "모델 저장\n",
      "최적화 완료\n",
      "정확도 : 0.9803\n"
     ]
    },
    {
     "data": {
      "image/png": "[encoded data removed]",
      "text/plain": [
       "<Figure size 432x288 with 10 Axes>"
      ]
     },
     "metadata": {},
     "output_type": "display_data"
    }
   ],
   "source": [
    "# 신경망 모델 구성\n",
    "# data-> model -> cost / optimizer\n",
    "# 28 x 28\n",
    "\n",
    "global_step = tf.Variable(0, trainable=False, name='global_step')\n",
    "X=tf.placeholder(tf.float32,[None,784])\n",
    "# [1 0 0 0 0 0 0 0]\n",
    "Y=tf.placeholder(tf.float32,[None,10])\n",
    "\n",
    "# dropout parameter\n",
    "keep_prob=tf.placeholder(tf.float32)\n",
    "\n",
    "# 신경망의 레이어는 다음처럼 구성\n",
    "# 784 -> 256 -> 256 -> 10\n",
    "W1=tf.Variable(tf.random_normal([784,256],stddev=0.01))\n",
    "L1=tf.nn.relu(tf.matmul(X,W1))\n",
    "L1=tf.nn.dropout(L1,keep_prob)\n",
    "\n",
    "W2=tf.Variable(tf.random_normal([256,256],stddev=0.01))\n",
    "L2=tf.nn.relu(tf.matmul(L1,W2))\n",
    "L2=tf.nn.dropout(L2,keep_prob)\n",
    "\n",
    "W3=tf.Variable(tf.random_normal([256,10],stddev=0.01))\n",
    "model=tf.matmul(L2,W3)\n",
    "\n",
    "cost=tf.reduce_mean(tf.nn.softmax_cross_entropy_with_logits_v2(logits=model,labels=Y))\n",
    "optimizer=tf.train.AdamOptimizer(learning_rate=0.001).minimize(cost,global_step=global_step)\n",
    "\n",
    "# 신경망 모델 학습\n",
    "batch_size=100\n",
    "total_batch=int(mnist.train.num_examples/batch_size)\n",
    "\n",
    "with tf.Session() as sess:\n",
    "    \n",
    "    # 모델 저장\n",
    "    saver=tf.train.Saver(tf.global_variables())\n",
    "    ckpt=tf.train.get_checkpoint_state('./model')\n",
    "    if ckpt and  tf.train.checkpoint_exists(ckpt.model_checkpoint_path):\n",
    "        print(\"저장된 checkpoint가 있습니다.\")\n",
    "        sess.run(tf.global_variables_initializer())\n",
    "        # 마지막 파일 명에서 저장된 STEP 받아오기\n",
    "        global_step = int(ckpt.model_checkpoint_path.split('-')[1].split('.')[0])\n",
    "        saver.restore(sess,ckpt.model_checkpoint_path)\n",
    "        #saver.restore(sess, tf.train.latest_checkpoint('./') )\n",
    "        \n",
    "    else:\n",
    "        print(\"저장된 checkpoint가 없습니다.\")\n",
    "        sess.run(tf.global_variables_initializer())\n",
    "        global_step=0\n",
    "        \n",
    "    for epoch in range(global_step,10):\n",
    "        total_cost=0\n",
    "        \n",
    "        for i in range(total_batch):\n",
    "            batch_xs,batch_ys=mnist.train.next_batch(batch_size)\n",
    "            \n",
    "            _,cost_val=sess.run([optimizer,cost],feed_dict={X:batch_xs, Y:batch_ys,keep_prob:0.8})\n",
    "            total_cost+=cost_val\n",
    "            \n",
    "        print('Epoch:' , '%04d' %(epoch+1), 'Avg.cost =','{:.3f}',format(total_cost/total_batch))\n",
    "        print(\"모델 저장\")\n",
    "        #if (epoch+1)%5==0:\n",
    "        saver.save(sess,\"./model/mnist_model\",global_step=epoch)\n",
    "        \n",
    "    print(\"최적화 완료\")\n",
    "    # 결과 확인\n",
    "    is_correct=tf.equal(tf.argmax(model,1), tf.argmax(Y,1))\n",
    "    accuracy=tf.reduce_mean(tf.cast(is_correct, tf.float32))\n",
    "    print('정확도 :',sess.run(accuracy, feed_dict={X:mnist.test.images, Y:mnist.test.labels,keep_prob:1}))\n",
    "    \n",
    "    \n",
    "        #########\n",
    "    # 결과 확인 (matplot)\n",
    "    ######\n",
    "    labels = sess.run(model,\n",
    "                      feed_dict={X: mnist.test.images,\n",
    "                                 Y: mnist.test.labels,\n",
    "                                 keep_prob: 1})\n",
    "\n",
    "    fig = plt.figure()\n",
    "    for i in range(10):\n",
    "        subplot = fig.add_subplot(2, 5, i + 1)\n",
    "        subplot.set_xticks([])\n",
    "        subplot.set_yticks([])\n",
    "        # 예측값\n",
    "        subplot.set_title('%d' % np.argmax(labels[i]))\n",
    "        # 정답값\n",
    "        subplot.imshow(mnist.test.images[i].reshape((28, 28)),\n",
    "                       cmap=plt.cm.gray_r)\n",
    "\n",
    "    plt.show()\n",
    "        \n",
    "        \n",
    "\n"
   ]
  },
  {
   "cell_type": "code",
   "execution_count": null,
   "metadata": {},
   "outputs": [],
   "source": []
  },
  {
   "cell_type": "code",
   "execution_count": null,
   "metadata": {},
   "outputs": [],
   "source": []
  }
 ],
 "metadata": {
  "kernelspec": {
   "display_name": "Python 3",
   "language": "python",
   "name": "python3"
  },
  "language_info": {
   "codemirror_mode": {
    "name": "ipython",
    "version": 3
   },
   "file_extension": ".py",
   "mimetype": "text/x-python",
   "name": "python",
   "nbconvert_exporter": "python",
   "pygments_lexer": "ipython3",
   "version": "3.6.5"
  }
 },
 "nbformat": 4,
 "nbformat_minor": 4
}
