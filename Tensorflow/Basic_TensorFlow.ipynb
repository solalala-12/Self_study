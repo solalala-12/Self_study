{
 "cells": [
  {
   "cell_type": "code",
   "execution_count": null,
   "metadata": {},
   "outputs": [],
   "source": []
  },
  {
   "cell_type": "code",
   "execution_count": 1,
   "metadata": {
    "scrolled": true
   },
   "outputs": [
    {
     "name": "stdout",
     "output_type": "stream",
     "text": [
      "WARNING:tensorflow:From C:\\Users\\Owner\\Anaconda3\\envs\\cardnum\\lib\\site-packages\\tensorflow_core\\python\\compat\\v2_compat.py:65: disable_resource_variables (from tensorflow.python.ops.variable_scope) is deprecated and will be removed in a future version.\n",
      "Instructions for updating:\n",
      "non-resource variables are not supported in the long term\n"
     ]
    }
   ],
   "source": [
    "import tensorflow as tf\n",
    "import numpy as np\n",
    "import tensorflow.compat.v1 as tf\n",
    "tf.disable_v2_behavior()\n",
    "import matplotlib.pyplot as plt\n",
    "%matplotlib inline\n",
    "\n",
    "tf.set_random_seed(7777)"
   ]
  },
  {
   "cell_type": "code",
   "execution_count": 2,
   "metadata": {},
   "outputs": [
    {
     "data": {
      "text/plain": [
       "'2.0.0'"
      ]
     },
     "execution_count": 2,
     "metadata": {},
     "output_type": "execute_result"
    }
   ],
   "source": [
    "tf.__version__"
   ]
  },
  {
   "cell_type": "markdown",
   "metadata": {},
   "source": [
    "# Tensorflow 자료형"
   ]
  },
  {
   "cell_type": "markdown",
   "metadata": {},
   "source": [
    "## tf.constant"
   ]
  },
  {
   "cell_type": "code",
   "execution_count": 3,
   "metadata": {},
   "outputs": [],
   "source": [
    "sess=tf.Session()"
   ]
  },
  {
   "cell_type": "code",
   "execution_count": 4,
   "metadata": {},
   "outputs": [],
   "source": [
    "# 초기화 되면서 메모리 크기와 type이 결정\n",
    "# 세션 실행 시 자동으로 초기화 \n",
    "# 고정된 크기 \n",
    "a=tf.constant([5])\n",
    "b=tf.constant([10.0,20,30])\n",
    "c=tf.constant([10,20,30],dtype=tf.float32)"
   ]
  },
  {
   "cell_type": "markdown",
   "metadata": {},
   "source": [
    "## tf.placeholder"
   ]
  },
  {
   "cell_type": "code",
   "execution_count": 5,
   "metadata": {},
   "outputs": [
    {
     "data": {
      "text/plain": [
       "array([1., 2., 3., 4., 5.], dtype=float32)"
      ]
     },
     "execution_count": 5,
     "metadata": {},
     "output_type": "execute_result"
    }
   ],
   "source": [
    "# 학습 및 테스트 데이터를 담는 그릇 역할 / 자료구조만 정해주고, 나중에 data를 공급받음 / 반복적으로 feeding가능 \n",
    "# 가변 / 갯수의 크기가 정해져 있지 않음\n",
    "x=tf.placeholder(dtype=tf.float32)\n",
    "input_data=[1,2,3,4,5]\n",
    "sess.run(x,feed_dict={x:input_data})"
   ]
  },
  {
   "cell_type": "markdown",
   "metadata": {},
   "source": [
    "## tf.Variable"
   ]
  },
  {
   "cell_type": "code",
   "execution_count": 6,
   "metadata": {},
   "outputs": [],
   "source": [
    "# constant처럼 고정된 크기의 메모리 공간\n",
    "# 반복적으로 읽고 쓰기 가능 / 반드시 초기화 되어야함\n",
    "input_data=[1,2,3,4,5]\n",
    "w=tf.Variable(input_data,dtype=tf.float32)\n",
    "init=tf.global_variables_initializer()\n",
    "sess.run(init)"
   ]
  },
  {
   "cell_type": "code",
   "execution_count": 7,
   "metadata": {},
   "outputs": [],
   "source": [
    "# 텐서 정보 입력 & 그래프 \n",
    "x=tf.placeholder(dtype=tf.float32)\n",
    "w=tf.Variable([2.0])\n",
    "b=tf.constant([1.4])\n",
    "y=w*x+b\n",
    "\n",
    "init=tf.global_variables_initializer()\n",
    "sess=tf.Session()\n",
    "sess.run(init)\n",
    "\n",
    "out1=sess.run(y,feed_dict={x:[1,2,3]})\n",
    "out2=sess.run(y,feed_dict={x:[-1.0,-2.0]})"
   ]
  },
  {
   "cell_type": "markdown",
   "metadata": {},
   "source": [
    "# 텐서 생성"
   ]
  },
  {
   "cell_type": "code",
   "execution_count": 8,
   "metadata": {},
   "outputs": [
    {
     "name": "stdout",
     "output_type": "stream",
     "text": [
      "Tensor(\"Const_4:0\", shape=(), dtype=float32)\n",
      "2.0\n"
     ]
    }
   ],
   "source": [
    "a=tf.constant(2.0)\n",
    "print(a)\n",
    "# 결과값 읽어오기\n",
    "print(sess.run(a))"
   ]
  },
  {
   "cell_type": "code",
   "execution_count": 9,
   "metadata": {},
   "outputs": [
    {
     "data": {
      "text/plain": [
       "TensorShape([])"
      ]
     },
     "execution_count": 9,
     "metadata": {},
     "output_type": "execute_result"
    }
   ],
   "source": [
    "# 한 행이여서 0차원이다\n",
    "a.shape"
   ]
  },
  {
   "cell_type": "code",
   "execution_count": 10,
   "metadata": {},
   "outputs": [
    {
     "name": "stdout",
     "output_type": "stream",
     "text": [
      "[2.]\n"
     ]
    }
   ],
   "source": [
    "# 대괄호는 벡터라는 뜻 \n",
    "b=tf.constant([2.0])\n",
    "print(sess.run(b))"
   ]
  },
  {
   "cell_type": "code",
   "execution_count": 11,
   "metadata": {},
   "outputs": [
    {
     "name": "stdout",
     "output_type": "stream",
     "text": [
      "Tensor(\"Const_6:0\", shape=(3, 2), dtype=int32)\n",
      "3\n",
      "[[1 2]\n",
      " [3 4]\n",
      " [5 6]]\n",
      "<class 'numpy.ndarray'>\n"
     ]
    }
   ],
   "source": [
    "m=tf.constant([[1,2],[3,4],[5,6]])\n",
    "print(m)\n",
    "print(m.shape[0])\n",
    "print(sess.run(m))\n",
    "# sess run을 하면 numpy로 변함\n",
    "print(type(sess.run(m)))"
   ]
  },
  {
   "cell_type": "code",
   "execution_count": 12,
   "metadata": {},
   "outputs": [
    {
     "name": "stdout",
     "output_type": "stream",
     "text": [
      "[[1 2 3]\n",
      " [4 5 6]]\n"
     ]
    }
   ],
   "source": [
    "a=tf.constant(np.array([1,2,3,4,5,6]),shape=(2,3))\n",
    "print(sess.run(a))"
   ]
  },
  {
   "cell_type": "code",
   "execution_count": 13,
   "metadata": {},
   "outputs": [
    {
     "name": "stdout",
     "output_type": "stream",
     "text": [
      "[[0 1]\n",
      " [2 2]\n",
      " [2 2]\n",
      " [2 2]]\n"
     ]
    }
   ],
   "source": [
    "# 주어진 크기보다 작을 경우 가장 마지막 원소가 자동으로 채워짐\n",
    "print(sess.run(tf.constant([0,1,2],shape=[4,2])))"
   ]
  },
  {
   "cell_type": "code",
   "execution_count": 14,
   "metadata": {},
   "outputs": [],
   "source": [
    "a=tf.constant([[1,2,3]],shape=[3,1])"
   ]
  },
  {
   "cell_type": "code",
   "execution_count": 15,
   "metadata": {},
   "outputs": [
    {
     "data": {
      "text/plain": [
       "array([[1],\n",
       "       [2],\n",
       "       [3]])"
      ]
     },
     "execution_count": 15,
     "metadata": {},
     "output_type": "execute_result"
    }
   ],
   "source": [
    "sess.run(a)"
   ]
  },
  {
   "cell_type": "code",
   "execution_count": 16,
   "metadata": {},
   "outputs": [
    {
     "name": "stdout",
     "output_type": "stream",
     "text": [
      "name: \"Const_9\"\n",
      "op: \"Const\"\n",
      "attr {\n",
      "  key: \"dtype\"\n",
      "  value {\n",
      "    type: DT_INT32\n",
      "  }\n",
      "}\n",
      "attr {\n",
      "  key: \"value\"\n",
      "  value {\n",
      "    tensor {\n",
      "      dtype: DT_INT32\n",
      "      tensor_shape {\n",
      "        dim {\n",
      "          size: 3\n",
      "        }\n",
      "        dim {\n",
      "          size: 1\n",
      "        }\n",
      "      }\n",
      "      tensor_content: \"\\001\\000\\000\\000\\002\\000\\000\\000\\003\\000\\000\\000\"\n",
      "    }\n",
      "  }\n",
      "}\n",
      "\n"
     ]
    }
   ],
   "source": [
    "# 텐서의 자세한 정보\n",
    "print(a.op)"
   ]
  },
  {
   "cell_type": "code",
   "execution_count": 17,
   "metadata": {
    "scrolled": true
   },
   "outputs": [
    {
     "name": "stdout",
     "output_type": "stream",
     "text": [
      "[False False False]\n"
     ]
    }
   ],
   "source": [
    "a=tf.constant([1,2,3])\n",
    "b=tf.constant([3,5,6])\n",
    "c=a>b\n",
    "print(sess.run(c))"
   ]
  },
  {
   "cell_type": "code",
   "execution_count": 18,
   "metadata": {},
   "outputs": [],
   "source": [
    "b=tf.constant([3])"
   ]
  },
  {
   "cell_type": "code",
   "execution_count": 19,
   "metadata": {},
   "outputs": [
    {
     "name": "stdout",
     "output_type": "stream",
     "text": [
      "<class 'tensorflow.python.framework.ops.Tensor'>\n"
     ]
    }
   ],
   "source": [
    "print(type(b))"
   ]
  },
  {
   "cell_type": "code",
   "execution_count": 20,
   "metadata": {},
   "outputs": [
    {
     "data": {
      "text/plain": [
       "array([3.4, 5.4, 7.4], dtype=float32)"
      ]
     },
     "execution_count": 20,
     "metadata": {},
     "output_type": "execute_result"
    }
   ],
   "source": [
    "input_data=[1,2,3,4,5]\n",
    "x=tf.placeholder(dtype=tf.float32)\n",
    "w=tf.Variable([2.0])\n",
    "b=tf.constant([1.4])\n",
    "y=w*x+b\n",
    "\n",
    "init=tf.global_variables_initializer()\n",
    "\n",
    "sess=tf.Session()\n",
    "sess.run(init)\n",
    "\n",
    "sess.run(y,feed_dict={x:[1,2,3]})\n"
   ]
  },
  {
   "cell_type": "markdown",
   "metadata": {},
   "source": [
    "# 텐서의 행렬 연산"
   ]
  },
  {
   "cell_type": "markdown",
   "metadata": {},
   "source": [
    "## 주가 지수 예측 모델 및 학습 시각화"
   ]
  },
  {
   "cell_type": "code",
   "execution_count": 21,
   "metadata": {},
   "outputs": [
    {
     "name": "stdout",
     "output_type": "stream",
     "text": [
      "[[4 5]\n",
      " [7 8]]\n"
     ]
    }
   ],
   "source": [
    "# 행렬 슬라이싱\n",
    "a=tf.constant([[1,2,3],[4,5,6],[7,8,9],[10,11,12]])\n",
    "# data,시작점,크기\n",
    "b=tf.slice(a,[1,0],[2,2])\n",
    "print(sess.run(b))"
   ]
  },
  {
   "cell_type": "code",
   "execution_count": 22,
   "metadata": {},
   "outputs": [
    {
     "name": "stdout",
     "output_type": "stream",
     "text": [
      "[[ 9 12 15]\n",
      " [24 33 42]]\n"
     ]
    }
   ],
   "source": [
    "# 행렬 곱\n",
    "x=tf.constant([[1,2],[4,5]])\n",
    "y=tf.constant([[1,2,3],[4,5,6]])\n",
    "result=tf.matmul(x,y)\n",
    "print(sess.run(result))"
   ]
  },
  {
   "cell_type": "code",
   "execution_count": 23,
   "metadata": {},
   "outputs": [
    {
     "name": "stdout",
     "output_type": "stream",
     "text": [
      "[[ 5  6  7]\n",
      " [ 8  9 10]]\n"
     ]
    }
   ],
   "source": [
    "# 브로드 캐스팅\n",
    "a=tf.constant([[1,2,3],[4,5,6]])\n",
    "b=a+4\n",
    "print(sess.run(b))"
   ]
  },
  {
   "cell_type": "code",
   "execution_count": 24,
   "metadata": {},
   "outputs": [
    {
     "name": "stdout",
     "output_type": "stream",
     "text": [
      "7.8\n",
      "1.0\n"
     ]
    }
   ],
   "source": [
    "# 차원 줄이는 함수 reduce / 전체 원소를 대표하는 값으로 변경해 차원을 줄이는 함수\n",
    "# 1차원 벡터에 대해 0차원 실수 return\n",
    "a=tf.constant([1.0,2.3,4.5])\n",
    "print(sess.run(tf.reduce_sum(a)))\n",
    "print(sess.run(tf.reduce_min(a)))\n"
   ]
  },
  {
   "cell_type": "code",
   "execution_count": 25,
   "metadata": {},
   "outputs": [
    {
     "name": "stdout",
     "output_type": "stream",
     "text": [
      "[[ 3.9401894  1.9416962  1.1391459]\n",
      " [ 3.662921  -3.5046422 -3.6932552]]\n",
      "[[10.997519 12.611055 13.062453]\n",
      " [12.9743    9.66015  10.22086 ]]\n"
     ]
    }
   ],
   "source": [
    "# uniform\n",
    "a=tf.random_uniform([2,3],-5,5)\n",
    "b=tf.random_uniform([2,3],minval=5,maxval=15)\n",
    "print(sess.run(a))\n",
    "print(sess.run(b))"
   ]
  },
  {
   "cell_type": "code",
   "execution_count": 26,
   "metadata": {},
   "outputs": [
    {
     "name": "stdout",
     "output_type": "stream",
     "text": [
      "[[-0.6319284   1.022173    3.3804648   0.781674    1.9805278   0.1476079\n",
      "  -1.0330762   2.4227026   0.18303788  0.04627968]\n",
      " [ 0.7300202  -0.74113005 -1.4042388  -0.43195793  0.77893114  1.1683313\n",
      "   0.12004654  0.47786897 -2.0982242   0.3081046 ]\n",
      " [-1.7894644  -4.2965193  -1.0355808  -1.7357363  -2.007953    2.2557907\n",
      "   0.06919162 -0.9689868  -1.1654634   0.37264562]\n",
      " [-1.8474488  -2.1168401  -4.8420134   1.255901    2.4074023   3.44189\n",
      "   3.062601   -0.13645309  2.2724006  -1.5840172 ]\n",
      " [-3.2594688  -0.33175552 -1.474855   -0.60791975 -0.14661676 -0.08185874\n",
      "  -1.8099158   0.8741417  -0.3339359  -0.6865524 ]]\n",
      "[[ 1.1448847   0.4132794  -1.7870595  -1.7605531  -3.3776126   2.3948221\n",
      "  -1.1827478  -1.2364736  -0.50594944 -3.0333705 ]\n",
      " [ 0.2678286  -0.9253981  -0.7436163  -3.359538   -0.68126696 -3.2810946\n",
      "  -2.5394583  -0.5036157  -0.9260828  -3.4495645 ]\n",
      " [ 0.758875   -0.21028444 -0.41015556  1.1326462  -0.33048978  1.5901394\n",
      "  -0.80039525  0.5163683   0.12440596  2.768015  ]\n",
      " [-0.90847605  1.3579742  -0.75837916  1.4368172   1.3592302  -0.7253406\n",
      "  -1.0664393   0.22385557  1.0771267  -1.7458549 ]\n",
      " [ 1.8906031  -2.598816   -1.6718974  -2.5616267   1.9162269   0.66235375\n",
      "  -1.4081199  -0.02101237  0.6067981  -1.8757826 ]]\n"
     ]
    }
   ],
   "source": [
    "# normal\n",
    "a=tf.random_normal([5,10],mean=0,stddev=2)\n",
    "b=tf.truncated_normal([5,10],mean=0,stddev=2)\n",
    "print(sess.run(a))\n",
    "print(sess.run(b))\n"
   ]
  },
  {
   "cell_type": "code",
   "execution_count": 27,
   "metadata": {},
   "outputs": [
    {
     "data": {
      "text/plain": [
       "tensorflow.python.framework.ops.Tensor"
      ]
     },
     "execution_count": 27,
     "metadata": {},
     "output_type": "execute_result"
    }
   ],
   "source": [
    "a=tf.convert_to_tensor([1,2,3,4])\n",
    "type(a)"
   ]
  },
  {
   "cell_type": "markdown",
   "metadata": {},
   "source": [
    "## 1.Cost 이해하기"
   ]
  },
  {
   "cell_type": "code",
   "execution_count": 28,
   "metadata": {},
   "outputs": [],
   "source": [
    "sess=tf.Session()"
   ]
  },
  {
   "cell_type": "code",
   "execution_count": 29,
   "metadata": {},
   "outputs": [],
   "source": [
    "x_data=[1.0,2,3,4]\n",
    "y_data=[1.1,2.2,3,4.2]\n",
    "\n",
    "w=tf.placeholder(tf.float32)\n",
    "x=tf.placeholder(tf.float32)\n",
    "y=tf.placeholder(tf.float32)\n",
    "hypothesis=w*x\n",
    "\n",
    "# MSE\n",
    "cost=tf.reduce_mean(tf.square(hypothesis))"
   ]
  },
  {
   "cell_type": "code",
   "execution_count": 30,
   "metadata": {},
   "outputs": [
    {
     "name": "stdout",
     "output_type": "stream",
     "text": [
      "Tensor(\"Mean:0\", shape=(), dtype=float32)\n"
     ]
    }
   ],
   "source": [
    "c=sess.run(cost,feed_dict={x:x_data,y:y_data,w:-4})\n",
    "print(cost)"
   ]
  },
  {
   "cell_type": "code",
   "execution_count": 31,
   "metadata": {},
   "outputs": [
    {
     "name": "stdout",
     "output_type": "stream",
     "text": [
      "120.0\n"
     ]
    }
   ],
   "source": [
    "print(c)"
   ]
  },
  {
   "cell_type": "code",
   "execution_count": 32,
   "metadata": {},
   "outputs": [
    {
     "name": "stdout",
     "output_type": "stream",
     "text": [
      "30.0\n"
     ]
    }
   ],
   "source": [
    "c=sess.run(cost,feed_dict={x:x_data,y:y_data,w:-2})\n",
    "print(c)"
   ]
  },
  {
   "cell_type": "code",
   "execution_count": 33,
   "metadata": {},
   "outputs": [
    {
     "name": "stdout",
     "output_type": "stream",
     "text": [
      "7.5\n"
     ]
    }
   ],
   "source": [
    "c=sess.run(cost,feed_dict={x:x_data,y:y_data,w:-1})\n",
    "print(c)"
   ]
  },
  {
   "cell_type": "code",
   "execution_count": 34,
   "metadata": {},
   "outputs": [
    {
     "data": {
      "text/plain": [
       "[<matplotlib.lines.Line2D at 0x2486e82b438>]"
      ]
     },
     "execution_count": 34,
     "metadata": {},
     "output_type": "execute_result"
    },
    {
     "data": {
      "image/png": "[encoded data removed]",
      "text/plain": [
       "<Figure size 432x288 with 1 Axes>"
      ]
     },
     "metadata": {
      "needs_background": "light"
     },
     "output_type": "display_data"
    }
   ],
   "source": [
    "cs=[]\n",
    "for v in [-4,-3,-2,-1,0,1,2,3,4,5,6]:\n",
    "    c=sess.run(cost,feed_dict={x:x_data,y:y_data,w:v})\n",
    "    cs.append(c)\n",
    "    \n",
    "plt.plot([-4,-3,-2,-1,0,1,2,3,4,5,6],cs)"
   ]
  },
  {
   "cell_type": "markdown",
   "metadata": {},
   "source": [
    "# 2. 경사하강법 이해하기"
   ]
  },
  {
   "cell_type": "code",
   "execution_count": 35,
   "metadata": {},
   "outputs": [],
   "source": [
    "learning_rate=0.1\n",
    "\n",
    "w=tf.Variable(2.0)\n",
    "x=tf.placeholder(tf.float32)\n",
    "y=tf.placeholder(tf.float32)\n",
    "hypothesis=w*x\n",
    "\n",
    "cost=tf.reduce_mean(tf.square(hypothesis-y))\n",
    "# w 지점에서의 기울기\n",
    "gradient=tf.reduce_mean((w*x-y)*x)\n",
    "descent=w-learning_rate*gradient\n",
    "# update weight\n",
    "update=w.assign(descent)"
   ]
  },
  {
   "cell_type": "code",
   "execution_count": 37,
   "metadata": {},
   "outputs": [
    {
     "name": "stdout",
     "output_type": "stream",
     "text": [
      "0.43742207 1.2825\n"
     ]
    }
   ],
   "source": [
    "with tf.Session() as sess:\n",
    "    writer=tf.su\n",
    "    init=tf.global_variables_initializer()\n",
    "    sess.run(init)\n",
    "    sess.run(update,feed_dict={x:x_data,y:y_data})\n",
    "    c,w_=sess.run([cost,w],feed_dict={x:x_data,y:y_data})\n",
    "    print(c,w_)\n"
   ]
  },
  {
   "cell_type": "code",
   "execution_count": 38,
   "metadata": {},
   "outputs": [
    {
     "name": "stdout",
     "output_type": "stream",
     "text": [
      "0.035229474 1.103125\n"
     ]
    }
   ],
   "source": [
    "sess.run(update,feed_dict={x:x_data,y:y_data})\n",
    "c,w_=sess.run([cost,w],feed_dict={x:x_data,y:y_data})\n",
    "print(c,w_)"
   ]
  },
  {
   "cell_type": "code",
   "execution_count": 39,
   "metadata": {},
   "outputs": [
    {
     "name": "stdout",
     "output_type": "stream",
     "text": [
      "0.010092459 1.0582812\n"
     ]
    }
   ],
   "source": [
    "sess.run(update,feed_dict={x:x_data,y:y_data})\n",
    "c,w_=sess.run([cost,w],feed_dict={x:x_data,y:y_data})\n",
    "print(c,w_)"
   ]
  },
  {
   "cell_type": "code",
   "execution_count": null,
   "metadata": {},
   "outputs": [],
   "source": []
  }
 ],
 "metadata": {
  "kernelspec": {
   "display_name": "Python 3",
   "language": "python",
   "name": "python3"
  },
  "language_info": {
   "codemirror_mode": {
    "name": "ipython",
    "version": 3
   },
   "file_extension": ".py",
   "mimetype": "text/x-python",
   "name": "python",
   "nbconvert_exporter": "python",
   "pygments_lexer": "ipython3",
   "version": "3.6.10"
  }
 },
 "nbformat": 4,
 "nbformat_minor": 2
}
