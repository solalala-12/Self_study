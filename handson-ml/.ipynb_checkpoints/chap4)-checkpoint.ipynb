{
 "cells": [
  {
   "cell_type": "markdown",
   "metadata": {},
   "source": [
    "# 선형 회귀 분석\n",
    "- 정규방정식\n",
    "- 배치 경사 하강법 (GD)\n",
    "- 확률적 경사 하강법 (SGD)\n",
    "- 미니배치 경사 하강법 "
   ]
  },
  {
   "cell_type": "code",
   "execution_count": 6,
   "metadata": {},
   "outputs": [],
   "source": [
    "import numpy as np\n",
    "import matplotlib.pyplot as plt"
   ]
  },
  {
   "cell_type": "code",
   "execution_count": 2,
   "metadata": {},
   "outputs": [],
   "source": [
    "X=2*np.random.rand(100,1)\n",
    "y=4+3*X+np.random.randn(100,1)"
   ]
  },
  {
   "cell_type": "code",
   "execution_count": 3,
   "metadata": {},
   "outputs": [],
   "source": [
    "# 정규 방적식을 이용하여 기울기 추정\n",
    "X_b=np.c_[np.ones((100,1)),X]\n",
    "theta_best=np.linalg.inv(X_b.T.dot(X_b)).dot(X_b.T).dot(y)\n"
   ]
  },
  {
   "cell_type": "code",
   "execution_count": 4,
   "metadata": {},
   "outputs": [
    {
     "data": {
      "text/plain": [
       "array([[3.98230969],\n",
       "       [3.06819922]])"
      ]
     },
     "execution_count": 4,
     "metadata": {},
     "output_type": "execute_result"
    }
   ],
   "source": [
    "theta_best\n",
    "# y = 4+3*X+np.random.randn(100,1) 의 4, 3과 비슷하게 나옴. (x와 y를 통해서 기울기를 역추적)"
   ]
  },
  {
   "cell_type": "code",
   "execution_count": 5,
   "metadata": {},
   "outputs": [
    {
     "data": {
      "text/plain": [
       "array([[ 3.98230969],\n",
       "       [10.11870813]])"
      ]
     },
     "execution_count": 5,
     "metadata": {},
     "output_type": "execute_result"
    }
   ],
   "source": [
    "X_new = np.array([[0],[2]])\n",
    "X_new_b = np.c_[np.ones((2,1)),X_new]\n",
    "y_predict = X_new_b.dot(theta_best)\n",
    "y_predict"
   ]
  },
  {
   "cell_type": "code",
   "execution_count": 6,
   "metadata": {},
   "outputs": [
    {
     "data": {
      "text/plain": [
       "array([[1., 0.],\n",
       "       [1., 2.]])"
      ]
     },
     "execution_count": 6,
     "metadata": {},
     "output_type": "execute_result"
    }
   ],
   "source": [
    "X_new_b"
   ]
  },
  {
   "cell_type": "code",
   "execution_count": 7,
   "metadata": {},
   "outputs": [
    {
     "data": {
      "image/png": "[encoded data removed]",
      "text/plain": [
       "<Figure size 432x288 with 1 Axes>"
      ]
     },
     "metadata": {
      "needs_background": "light"
     },
     "output_type": "display_data"
    }
   ],
   "source": [
    "plt.plot(X_new, y_predict, 'r-')\n",
    "plt.plot(X, y, 'b.')\n",
    "plt.axis([0,2,0,15])\n",
    "plt.show()"
   ]
  },
  {
   "cell_type": "code",
   "execution_count": 2,
   "metadata": {},
   "outputs": [],
   "source": [
    "# 같은 작업을 하는 사이킷런 코드 \n",
    "from sklearn.linear_model import LinearRegression\n",
    "lin_reg = LinearRegression()\n",
    "lin_reg.fit(X,y)\n",
    "lin_reg.intercept_, lin_reg.coef_"
   ]
  },
  {
   "cell_type": "code",
   "execution_count": 9,
   "metadata": {},
   "outputs": [],
   "source": [
    "# Gradient Descent \n",
    "eta=0.1\n",
    "n_iterations=1000\n",
    "m=100\n",
    "\n",
    "theta=np.random.randn(2,1)\n",
    "for iteration in range(n_iterations):\n",
    "    # theta gradient for mse cost function\n",
    "    gradients = 2/m*X_b.T.dot(X_b.dot(theta)-y)\n",
    "    # gradient update\n",
    "    theta = theta - eta*gradients\n",
    "    \n",
    "    "
   ]
  },
  {
   "cell_type": "code",
   "execution_count": 10,
   "metadata": {},
   "outputs": [
    {
     "data": {
      "text/plain": [
       "array([[3.98230969],\n",
       "       [3.06819922]])"
      ]
     },
     "execution_count": 10,
     "metadata": {},
     "output_type": "execute_result"
    }
   ],
   "source": [
    "#  정규방정식으로 찾은 것과 정확 \n",
    "theta"
   ]
  },
  {
   "cell_type": "code",
   "execution_count": 11,
   "metadata": {},
   "outputs": [],
   "source": [
    "# 확률적 경사 하강법\n",
    "n_epochs = 50\n",
    "t0,t1=5,50\n",
    "def learning_schedule(t):\n",
    "    return t0 / (t+t1)\n",
    "\n",
    "theta = np.random.randn(2,1)\n",
    "# 그냥 GD는 전수 계산을 함으로 계산량이 많다. 확률적 경사 하강법은 에폭당 몇개의 샘플만을 뽑아 theta 계산\n",
    "for epoch in range(n_epochs):\n",
    "    for i in range(m):\n",
    "        random_index=np.random.randint(m)\n",
    "        xi=X_b[random_index:random_index+1]\n",
    "        yi=y[random_index:random_index+1]\n",
    "        gradients=2*xi.T.dot(xi.dot(theta)-yi)\n",
    "        eta=learning_schedule(epoch*m+i)\n",
    "        theta=theta-eta*gradients"
   ]
  },
  {
   "cell_type": "markdown",
   "metadata": {},
   "source": [
    "# 다항 회귀\n",
    "비선형 데이터를 학습하는데 선형 모델을 사용할 수 있다."
   ]
  },
  {
   "cell_type": "code",
   "execution_count": 14,
   "metadata": {},
   "outputs": [],
   "source": [
    "# y에 대한 2차방정식\n",
    "m=100\n",
    "X=6*np.random.rand(m,1)-3\n",
    "y=0.5*X**2+X+2+np.random.randn(m,1)"
   ]
  },
  {
   "cell_type": "code",
   "execution_count": 22,
   "metadata": {},
   "outputs": [
    {
     "data": {
      "text/plain": [
       "[<matplotlib.lines.Line2D at 0x7f1f23bb6da0>]"
      ]
     },
     "execution_count": 22,
     "metadata": {},
     "output_type": "execute_result"
    },
    {
     "data": {
      "image/png": "[encoded data removed]",
      "text/plain": [
       "<Figure size 432x288 with 1 Axes>"
      ]
     },
     "metadata": {
      "needs_background": "light"
     },
     "output_type": "display_data"
    }
   ],
   "source": [
    "plt.plot(X,y,'b.')"
   ]
  },
  {
   "cell_type": "code",
   "execution_count": 1,
   "metadata": {},
   "outputs": [],
   "source": [
    "from sklearn.preprocessing import PolynomialFeatures\n",
    "ploy_features=PolynomialFeatures(degree=2, include_bias=False)\n",
    "X_poly=ploy_features.fit_transform(X)\n",
    "X[0]"
   ]
  },
  {
   "cell_type": "code",
   "execution_count": 30,
   "metadata": {},
   "outputs": [
    {
     "data": {
      "text/plain": [
       "array([2.30831902])"
      ]
     },
     "execution_count": 30,
     "metadata": {},
     "output_type": "execute_result"
    }
   ],
   "source": [
    "X[0]"
   ]
  },
  {
   "cell_type": "code",
   "execution_count": 32,
   "metadata": {},
   "outputs": [
    {
     "data": {
      "text/plain": [
       "array([2.30831902, 5.3283367 ])"
      ]
     },
     "execution_count": 32,
     "metadata": {},
     "output_type": "execute_result"
    }
   ],
   "source": [
    "# X와 X^2\n",
    "X_poly[0]"
   ]
  },
  {
   "cell_type": "code",
   "execution_count": 35,
   "metadata": {},
   "outputs": [
    {
     "data": {
      "text/plain": [
       "(array([2.17155881]), array([[1.07662864, 0.44353473]]))"
      ]
     },
     "execution_count": 35,
     "metadata": {},
     "output_type": "execute_result"
    }
   ],
   "source": [
    "lin_reg=LinearRegression()\n",
    "lin_reg.fit(X_poly,y)\n",
    "lin_reg.intercept_, lin_reg.coef_"
   ]
  },
  {
   "cell_type": "code",
   "execution_count": 1,
   "metadata": {},
   "outputs": [],
   "source": [
    "import numpy as np\n",
    "import matplotlib.pyplot as plt\n",
    "from sklearn.linear_model import LinearRegression\n",
    "from sklearn.preprocessing import PolynomialFeatures\n",
    "m=100\n",
    "X=6*np.random.rand(m,1)-3\n",
    "y=0.5*X**2+X+2+np.random.randn(m,1)"
   ]
  },
  {
   "cell_type": "code",
   "execution_count": null,
   "metadata": {},
   "outputs": [],
   "source": []
  },
  {
   "cell_type": "code",
   "execution_count": 2,
   "metadata": {},
   "outputs": [],
   "source": [
    "# 학습 곡선 그리기 \n",
    "from sklearn.metrics import mean_squared_error\n",
    "from sklearn.model_selection import train_test_split\n",
    "\n",
    "def plot_learning_curves(model,X,y):\n",
    "    X_train, X_val, y_train, y_val = train_test_split(X,y,test_size=0.2)\n",
    "    train_errors, val_errors = [],[]\n",
    "    for m in range(1, len(X_train)):\n",
    "        model.fit(X_train[:m], y_train[:m])\n",
    "        y_train_predict = model.predict(X_train[:m])\n",
    "        y_val_predict=model.predict(X_val)\n",
    "        train_errors.append(mean_squared_error(y_train[:m],y_train_predict))\n",
    "        val_errors.append(mean_squared_error(y_val,y_val_predict))\n",
    "    plt.plot(np.sqrt(train_errors), 'r-+',linewidth=2,label=\"Train set\")\n",
    "    plt.plot(np.sqrt(val_errors),'b-',linewidth=3,label=\"Test set\")\n",
    "    "
   ]
  },
  {
   "cell_type": "code",
   "execution_count": 3,
   "metadata": {},
   "outputs": [
    {
     "data": {
      "image/png": "[encoded data removed]",
      "text/plain": [
       "<Figure size 432x288 with 1 Axes>"
      ]
     },
     "metadata": {
      "needs_background": "light"
     },
     "output_type": "display_data"
    }
   ],
   "source": [
    "# lin_reg=LinearRegression()\n",
    "# plot_learning_curves(lin_reg,X,y)\n",
    "# # train set가 에폭이 진행될 수록 error가 올라가고 test set 은 error가 안정화 --> 과소적합 "
   ]
  },
  {
   "cell_type": "code",
   "execution_count": 3,
   "metadata": {},
   "outputs": [
    {
     "data": {
      "image/png": "[encoded data removed]",
      "text/plain": [
       "<Figure size 432x288 with 1 Axes>"
      ]
     },
     "metadata": {
      "needs_background": "light"
     },
     "output_type": "display_data"
    }
   ],
   "source": [
    "from sklearn.pipeline import Pipeline\n",
    "\n",
    "polynomial_regression = Pipeline([(\"poly_features\",PolynomialFeatures(degree=10, include_bias=False)), (\"lin_reg\",LinearRegression())])\n",
    "plot_learning_curves(polynomial_regression, X,y)"
   ]
  },
  {
   "cell_type": "code",
   "execution_count": 5,
   "metadata": {},
   "outputs": [
    {
     "data": {
      "text/plain": [
       "array([[ 0.59847039],\n",
       "       [ 1.85306077],\n",
       "       [-1.00003798],\n",
       "       [-2.2700463 ],\n",
       "       [-0.8796507 ],\n",
       "       [ 2.19050607],\n",
       "       [-0.45558964],\n",
       "       [-1.13533892],\n",
       "       [-1.57456784],\n",
       "       [-2.57892556],\n",
       "       [ 2.65267336],\n",
       "       [-1.27979386],\n",
       "       [-2.83304477],\n",
       "       [-2.67050206],\n",
       "       [-2.33115196],\n",
       "       [ 2.91523799],\n",
       "       [ 0.76158105],\n",
       "       [-0.64272318],\n",
       "       [-1.46579643],\n",
       "       [-1.52190119],\n",
       "       [ 2.87182047],\n",
       "       [-1.10235261],\n",
       "       [-0.18973505],\n",
       "       [ 2.18456112],\n",
       "       [ 2.4428823 ],\n",
       "       [-2.37997705],\n",
       "       [-2.48400377],\n",
       "       [-0.3871697 ],\n",
       "       [-0.42324604],\n",
       "       [-1.30157677],\n",
       "       [-2.00182497],\n",
       "       [ 0.80340317],\n",
       "       [ 1.99576205],\n",
       "       [ 1.17465831],\n",
       "       [ 2.58690212],\n",
       "       [-0.98461831],\n",
       "       [ 1.2696688 ],\n",
       "       [ 0.96465616],\n",
       "       [-2.7545132 ],\n",
       "       [-2.199259  ],\n",
       "       [ 2.00861202],\n",
       "       [ 1.34812256],\n",
       "       [-2.15494909],\n",
       "       [ 0.5493788 ],\n",
       "       [-0.47880058],\n",
       "       [-2.72602347],\n",
       "       [ 2.66575448],\n",
       "       [-1.59462992],\n",
       "       [ 0.88103341],\n",
       "       [ 0.36140932],\n",
       "       [-1.35986503],\n",
       "       [-2.80021076],\n",
       "       [-0.86476634],\n",
       "       [ 2.90267158],\n",
       "       [ 2.39332855],\n",
       "       [-2.04801037],\n",
       "       [-0.62204464],\n",
       "       [ 0.08474475],\n",
       "       [-0.63946664],\n",
       "       [-0.77334676],\n",
       "       [-2.46117459],\n",
       "       [-1.14807626],\n",
       "       [ 1.69695609],\n",
       "       [ 2.6305494 ],\n",
       "       [ 0.17783468],\n",
       "       [-0.58872065],\n",
       "       [-0.57759653],\n",
       "       [-0.11737173],\n",
       "       [ 0.66475149],\n",
       "       [-0.55279885],\n",
       "       [-1.93776668],\n",
       "       [-1.67548267],\n",
       "       [-2.57228217],\n",
       "       [-0.72626949],\n",
       "       [ 1.02426704],\n",
       "       [ 2.85580427],\n",
       "       [-0.23312042],\n",
       "       [ 1.05356138],\n",
       "       [ 1.81293939],\n",
       "       [ 2.09453339],\n",
       "       [-1.74845688],\n",
       "       [ 2.62757031],\n",
       "       [ 0.11497084],\n",
       "       [-2.17548013],\n",
       "       [-2.20899942],\n",
       "       [ 2.49281118],\n",
       "       [ 0.69662479],\n",
       "       [ 0.40261757],\n",
       "       [ 2.910578  ],\n",
       "       [ 1.65087708],\n",
       "       [ 1.78505797],\n",
       "       [-1.46416817],\n",
       "       [-1.15374715],\n",
       "       [ 1.91936728],\n",
       "       [ 1.26130095],\n",
       "       [ 2.39075891],\n",
       "       [-0.66623404],\n",
       "       [-2.53236521],\n",
       "       [-1.92934701],\n",
       "       [-0.486731  ]])"
      ]
     },
     "execution_count": 5,
     "metadata": {},
     "output_type": "execute_result"
    }
   ],
   "source": []
  },
  {
   "cell_type": "code",
   "execution_count": null,
   "metadata": {},
   "outputs": [],
   "source": []
  }
 ],
 "metadata": {
  "kernelspec": {
   "display_name": "Python 3",
   "language": "python",
   "name": "python3"
  },
  "language_info": {
   "codemirror_mode": {
    "name": "ipython",
    "version": 3
   },
   "file_extension": ".py",
   "mimetype": "text/x-python",
   "name": "python",
   "nbconvert_exporter": "python",
   "pygments_lexer": "ipython3",
   "version": "3.6.9"
  }
 },
 "nbformat": 4,
 "nbformat_minor": 4
}
